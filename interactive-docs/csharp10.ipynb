{
 "cells": [
  {
   "cell_type": "markdown",
   "metadata": {},
   "source": [
    "# Constant interpolated strings\n",
    "\n",
    "const strings may be initialized using string interpolation.\\\n",
    "Every interpolation expression must be a compile time constant string."
   ]
  },
  {
   "cell_type": "code",
   "execution_count": null,
   "metadata": {
    "dotnet_interactive": {
     "language": "csharp"
    }
   },
   "outputs": [
    {
     "name": "stdout",
     "output_type": "stream",
     "text": [
      "Hello in C# 10\n"
     ]
    }
   ],
   "source": [
    "const string csharp10 = \"C# 10\";\n",
    "const string myConstant = $\"Hello in {csharp10}\";\n",
    "Console.WriteLine(myConstant);"
   ]
  },
  {
   "cell_type": "markdown",
   "metadata": {},
   "source": [
    "# CallerArgumentExpression attribute for diagnostics\n",
    "\n",
    "The compiler will replace the parameter value by the text representation of the referenced parameter."
   ]
  },
  {
   "cell_type": "code",
   "execution_count": null,
   "metadata": {
    "dotnet_interactive": {
     "language": "csharp"
    }
   },
   "outputs": [
    {
     "name": "stdout",
     "output_type": "stream",
     "text": [
      "System.InvalidOperationException: Too hot: <new DailyTemperature(40, 30)>\n",
      "   at Submission#19.Validate(DailyTemperature temperature, String message)\n",
      "   at Submission#19.<<Initialize>>d__0.MoveNext()\n"
     ]
    }
   ],
   "source": [
    "public record DailyTemperature(double HighTemp, double LowTemp);\n",
    "\n",
    "public static void Validate(DailyTemperature temperature, [System.Runtime.CompilerServices.CallerArgumentExpression(\"temperature\")] string? message=null)\n",
    "{\n",
    "    if (temperature.HighTemp > 35)\n",
    "    {\n",
    "        throw new InvalidOperationException($\"Too hot: <{message}>\");\n",
    "    }\n",
    "}\n",
    "\n",
    "try \n",
    "{\n",
    "    Validate(new DailyTemperature(40, 30));\n",
    "}\n",
    "catch(Exception e)\n",
    "{\n",
    "    Console.WriteLine(e);\n",
    "}"
   ]
  }
 ],
 "metadata": {
  "kernelspec": {
   "display_name": ".NET (C#)",
   "language": "C#",
   "name": ".net-csharp"
  },
  "language_info": {
   "name": "C#"
  }
 },
 "nbformat": 4,
 "nbformat_minor": 2
}
