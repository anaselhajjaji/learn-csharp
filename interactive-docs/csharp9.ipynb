{
 "cells": [
  {
   "cell_type": "markdown",
   "metadata": {},
   "source": [
    "# Record types"
   ]
  },
  {
   "cell_type": "code",
   "execution_count": null,
   "metadata": {
    "dotnet_interactive": {
     "language": "csharp"
    }
   },
   "outputs": [],
   "source": [
    "public record Person(string FirstName, string LastName);"
   ]
  },
  {
   "cell_type": "markdown",
   "metadata": {},
   "source": [
    "## Initialize a record\n",
    "\n",
    "Record types have a compiler-generated ToString method that displays the names and values of public properties and fields. "
   ]
  },
  {
   "cell_type": "code",
   "execution_count": null,
   "metadata": {
    "dotnet_interactive": {
     "language": "csharp"
    }
   },
   "outputs": [
    {
     "name": "stdout",
     "output_type": "stream",
     "text": [
      "Person { FirstName = Anas, LastName = EL HAJJAJI }\n"
     ]
    }
   ],
   "source": [
    "// Create and initialize a record\n",
    "Person person = new(\"Anas\", \"EL HAJJAJI\");\n",
    "\n",
    "// Print it\n",
    "Console.WriteLine(person);"
   ]
  },
  {
   "cell_type": "markdown",
   "metadata": {},
   "source": [
    "## Copy an existing record"
   ]
  },
  {
   "cell_type": "code",
   "execution_count": null,
   "metadata": {
    "dotnet_interactive": {
     "language": "csharp"
    }
   },
   "outputs": [
    {
     "name": "stdout",
     "output_type": "stream",
     "text": [
      "Person { FirstName = Anas, LastName = EL HAJJAJI }\n",
      "Person { FirstName = Jad, LastName = EL HAJJAJI }\n",
      "False\n",
      "True\n"
     ]
    }
   ],
   "source": [
    "// Create and initialize a record\n",
    "Person person1 = new(\"Anas\", \"EL HAJJAJI\");\n",
    "\n",
    "// Copy the record with change\n",
    "Person person2 = person1 with { FirstName = \"Jad\" };\n",
    "\n",
    "// Exact copy\n",
    "Person person3 = person1 with {};\n",
    "\n",
    "// Prints\n",
    "Console.WriteLine(person1);\n",
    "Console.WriteLine(person2);\n",
    "Console.WriteLine(person1 == person2);\n",
    "Console.WriteLine(person1 == person3);"
   ]
  },
  {
   "cell_type": "markdown",
   "metadata": {},
   "source": [
    "## Inheritance\n",
    "\n",
    "A record can inherit from another record."
   ]
  },
  {
   "cell_type": "code",
   "execution_count": null,
   "metadata": {
    "dotnet_interactive": {
     "language": "csharp"
    }
   },
   "outputs": [
    {
     "name": "stdout",
     "output_type": "stream",
     "text": [
      "Teacher { FirstName = Anas, LastName = EL HAJJAJI, Grade = 1 }\n"
     ]
    }
   ],
   "source": [
    "public record Teacher(string FirstName, string LastName, int Grade) : Person(FirstName, LastName);\n",
    "Person teacher = new Teacher(\"Anas\", \"EL HAJJAJI\", 1);\n",
    "Console.WriteLine(teacher);"
   ]
  },
  {
   "cell_type": "markdown",
   "metadata": {},
   "source": [
    "# Init only setters\n",
    "\n",
    "Init only setters can be used to initialize properties during construction but will be readonly after."
   ]
  },
  {
   "cell_type": "code",
   "execution_count": null,
   "metadata": {
    "dotnet_interactive": {
     "language": "csharp"
    }
   },
   "outputs": [],
   "source": [
    "public class Car \n",
    "{\n",
    "    public string Brand { get; init; }\n",
    "    public string Model { get; init; }\n",
    "}\n",
    "\n",
    "var tiguan = new Car \n",
    "{\n",
    "    Brand = \"Volkswagen\",\n",
    "    Model = \"Tiguan\"\n",
    "};\n",
    "\n",
    "// Change the property after will result in a compiler error.\n",
    "// tiguan.Model = \"Golf\";"
   ]
  },
  {
   "cell_type": "markdown",
   "metadata": {},
   "source": [
    "# Top-level statements\n",
    "\n",
    "The code below:\n",
    "\n",
    "```csharp\n",
    "using System;\n",
    "\n",
    "namespace HelloWorld\n",
    "{\n",
    "    class Program\n",
    "    {\n",
    "        static void Main(string[] args)\n",
    "        {\n",
    "            Console.WriteLine(\"Hello World!\");\n",
    "        }\n",
    "    }\n",
    "}\n",
    "```\n",
    "\n",
    "can be simplified removing all the boilerplate code.\n",
    "\n",
    "It's possible only in entry point file, typically the Main method."
   ]
  },
  {
   "cell_type": "code",
   "execution_count": null,
   "metadata": {
    "dotnet_interactive": {
     "language": "csharp"
    }
   },
   "outputs": [
    {
     "name": "stdout",
     "output_type": "stream",
     "text": [
      "Hello World!\n"
     ]
    }
   ],
   "source": [
    "using System;\n",
    "\n",
    "Console.WriteLine(\"Hello World!\");"
   ]
  }
 ],
 "metadata": {
  "kernelspec": {
   "display_name": ".NET (C#)",
   "language": "C#",
   "name": ".net-csharp"
  },
  "language_info": {
   "name": "C#"
  }
 },
 "nbformat": 4,
 "nbformat_minor": 2
}
