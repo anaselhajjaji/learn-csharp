{
 "cells": [
  {
   "cell_type": "markdown",
   "metadata": {},
   "source": [
    "# Record types"
   ]
  },
  {
   "cell_type": "code",
   "execution_count": null,
   "metadata": {
    "dotnet_interactive": {
     "language": "csharp"
    }
   },
   "outputs": [],
   "source": [
    "public record Person(string FirstName, string LastName);"
   ]
  },
  {
   "cell_type": "markdown",
   "metadata": {},
   "source": [
    "## Initialize a record\n",
    "\n",
    "Record types have a compiler-generated ToString method that displays the names and values of public properties and fields. "
   ]
  },
  {
   "cell_type": "code",
   "execution_count": null,
   "metadata": {
    "dotnet_interactive": {
     "language": "csharp"
    }
   },
   "outputs": [
    {
     "name": "stdout",
     "output_type": "stream",
     "text": [
      "Person { FirstName = Anas, LastName = EL HAJJAJI }\n"
     ]
    }
   ],
   "source": [
    "// Create and initialize a record\n",
    "Person person = new(\"Anas\", \"EL HAJJAJI\");\n",
    "\n",
    "// Print it\n",
    "Console.WriteLine(person);"
   ]
  },
  {
   "cell_type": "markdown",
   "metadata": {},
   "source": [
    "## Copy an existing record"
   ]
  },
  {
   "cell_type": "code",
   "execution_count": null,
   "metadata": {
    "dotnet_interactive": {
     "language": "csharp"
    }
   },
   "outputs": [
    {
     "name": "stdout",
     "output_type": "stream",
     "text": [
      "Person { FirstName = Anas, LastName = EL HAJJAJI }\n",
      "Person { FirstName = Jad, LastName = EL HAJJAJI }\n",
      "False\n",
      "True\n"
     ]
    }
   ],
   "source": [
    "// Create and initialize a record\n",
    "Person person1 = new(\"Anas\", \"EL HAJJAJI\");\n",
    "\n",
    "// Copy the record with change\n",
    "Person person2 = person1 with { FirstName = \"Jad\" };\n",
    "\n",
    "// Exact copy\n",
    "Person person3 = person1 with {};\n",
    "\n",
    "// Prints\n",
    "Console.WriteLine(person1);\n",
    "Console.WriteLine(person2);\n",
    "Console.WriteLine(person1 == person2);\n",
    "Console.WriteLine(person1 == person3);"
   ]
  },
  {
   "cell_type": "markdown",
   "metadata": {},
   "source": [
    "## Inheritance\n",
    "\n",
    "A record can inherit from another record."
   ]
  },
  {
   "cell_type": "code",
   "execution_count": null,
   "metadata": {
    "dotnet_interactive": {
     "language": "csharp"
    }
   },
   "outputs": [],
   "source": []
  }
 ],
 "metadata": {
  "kernelspec": {
   "display_name": ".NET (C#)",
   "language": "C#",
   "name": ".net-csharp"
  },
  "language_info": {
   "name": "C#"
  }
 },
 "nbformat": 4,
 "nbformat_minor": 2
}
